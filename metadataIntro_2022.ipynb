{
 "cells": [
  {
   "cell_type": "markdown",
   "metadata": {},
   "source": [
    "# Gestión y uso de Metadatos"
   ]
  },
  {
   "cell_type": "markdown",
   "metadata": {},
   "source": [
    "## Librerías Necesarias"
   ]
  },
  {
   "cell_type": "markdown",
   "metadata": {},
   "source": [
    "xml.etree.ElementTree\n",
    "\n",
    "requests"
   ]
  },
  {
   "cell_type": "code",
   "execution_count": null,
   "metadata": {},
   "outputs": [],
   "source": [
    "import xml.etree.ElementTree as ET\n",
    "import requests"
   ]
  },
  {
   "cell_type": "markdown",
   "metadata": {},
   "source": [
    "## Metadata attachment"
   ]
  },
  {
   "cell_type": "markdown",
   "metadata": {},
   "source": [
    "En este Notebook descubriremos cómo pueden explotarse metadatos publicados en formatos basados en etiquetas, como XML."
   ]
  },
  {
   "cell_type": "markdown",
   "metadata": {},
   "source": [
    "<img src=\"https://www.republica.com/wp-content/uploads/2017/04/grito.jpg \" width=\"250\">"
   ]
  },
  {
   "cell_type": "markdown",
   "metadata": {},
   "source": [
    "Vamos a empezar por describir un par de objetos, empezando por un cuadro, \"El grito\", de  Edvard Munch.\n",
    "\n",
    "* Title: \n",
    "* Creator: \n",
    "* Subject:  \n",
    "* Description: \n",
    "* Publisher: \n",
    "* Contributor:\n",
    "* Date: \n",
    "* Type: \n",
    "* Format: \n",
    "* Identifier: \n",
    "* Source: \n",
    "* Language:\n",
    "* Relation:\n",
    "* Coverage:  \n",
    "* Rights:"
   ]
  },
  {
   "cell_type": "markdown",
   "metadata": {},
   "source": [
    "Con Dublin Core también podemos describir datasets científicos. Vamos a probar con:\n",
    "\n",
    "https://zenodo.org/record/3372754#.XcFkhE9Kg5k\n",
    "\n",
    "<div class=\"alert alert-warning\" role=\"alert\" style=\"margin: 10px\">\n",
    "<p>**Consejo**</p>\n",
    "\n",
    "<p>En el propio repositorio puedes encontrar metadatos</p>\n",
    "</div>\n",
    "\n",
    "* Title: \n",
    "* Creator: \n",
    "* Subject:  \n",
    "* Description: \n",
    "* Publisher: \n",
    "* Contributor:\n",
    "* Date: \n",
    "* Type: \n",
    "* Format: \n",
    "* Identifier: \n",
    "* Source: \n",
    "* Language:\n",
    "* Relation:\n",
    "* Coverage:  \n",
    "* Rights:"
   ]
  },
  {
   "cell_type": "markdown",
   "metadata": {},
   "source": [
    "A partir de las descripciones, podemos crear documentos XML que sean interpretables por máquinas (entendiendo máquinas como scripts, software, etc). \n",
    "\n",
    "El grito:\n",
    "  \n",
    "  ```XML\n",
    " <dc:contributor></dc:contributor>\n",
    "  <dc:coverage></dc:coverage>\n",
    "  <dc:creator></dc:creator>\n",
    "  <dc:date></dc:date>\n",
    "  <dc:description></dc:description>\n",
    "  <dc:format></dc:format>\n",
    "  <dc:identifier></dc:identifier>\n",
    "  <dc:language></dc:language>\n",
    "  <dc:publisher></dc:publisher>\n",
    "  <dc:relation></dc:relation>\n",
    "  <dc:rights></dc:rights>\n",
    "  <dc:source></dc:source>\n",
    "  <dc:title></dc:title>\n",
    "  <dc:type></dc:type>\n",
    "```\n",
    "\n",
    "Dataset:\n",
    "  ```XML\n",
    " <dc:contributor> </dc:contributor>\n",
    "  <dc:coverage> </dc:coverage>\n",
    "  <dc:creator></dc:creator>\n",
    "  <dc:date></dc:date>\n",
    "  <dc:subject></dc:subject>\n",
    "  <dc:description></dc:description>\n",
    "  <dc:format>  </dc:format>\n",
    "  <dc:identifier></dc:identifier>\n",
    "  <dc:language> </dc:language>\n",
    "  <dc:publisher></dc:publisher>\n",
    "  <dc:relation> </dc:relation>\n",
    "  <dc:rights> </dc:rights>\n",
    "  <dc:source> </dc:source>\n",
    "  <dc:title></dc:title>\n",
    "  <dc:type></dc:type>\n",
    "```"
   ]
  },
  {
   "cell_type": "markdown",
   "metadata": {},
   "source": [
    "Ahora vamos a ver cómo podemos manejar estos datos en Python. Para ello, utilizaremos la librería xml.\n",
    "\n",
    "Para crear un documento XML bien formado, es necesario definir dónde está descrito el prefijo Dublin Core o \"dc:\". Para ello, añadimos antes de los datos la siguiente cabecera:\n",
    "\n",
    "```XML\n",
    "<?xml version=\"1.0\" encoding=\"UTF-8\" standalone=\"no\"?><?xml-stylesheet type=\"text/xsl\" href=\"/webservices/catalog/xsl/searchRetrieveResponse.xsl\"?>\n",
    "<searchRetrieveResponse xmlns:oclcterms=\"http://purl.org/oclc/terms/\" xmlns:dc=\"http://purl.org/dc/elements/1.1/\" xmlns:diag=\"http://www.loc.gov/zing/srw/diagnostic/\" xmlns:xsi=\"http://www.w3.org/2001/XMLSchema-instance\">\n",
    "```\n",
    "\n",
    "Sin olvidar añadir al final:\n",
    "\n",
    "```XML\n",
    "</searchRetrieveResponse>\n",
    "```"
   ]
  },
  {
   "cell_type": "code",
   "execution_count": null,
   "metadata": {},
   "outputs": [],
   "source": [
    "import xml.etree.ElementTree as ET\n",
    "dc_xml = '''<?xml version=\"1.0\" encoding=\"UTF-8\" standalone=\"no\"?><?xml-stylesheet type=\"text/xsl\" href=\"/webservices/catalog/xsl/searchRetrieveResponse.xsl\"?>\n",
    "<searchRetrieveResponse xmlns:oclcterms=\"http://purl.org/oclc/terms/\" xmlns:dc=\"http://purl.org/dc/elements/1.1/\" xmlns:diag=\"http://www.loc.gov/zing/srw/diagnostic/\" xmlns:xsi=\"http://www.w3.org/2001/XMLSchema-instance\">\n",
    "\n",
    "\n",
    "     <dc:contributor>Edvard Munch </dc:contributor>\n",
    "  <dc:coverage>Lugar indeterminado</dc:coverage>\n",
    "  <dc:creator>Edvard Munch </dc:creator>\n",
    "  <dc:date>1910</dc:date>\n",
    "  <dc:description>Cuadro...</dc:description>\n",
    "  <dc:format>Oleo sobre carton</dc:format>\n",
    "  <dc:identifier>id_museo_grito</dc:identifier>\n",
    "  <dc:language></dc:language>\n",
    "  <dc:publisher>Galeria nacional de Oslo</dc:publisher>\n",
    "  <dc:relation>cuadro1, cuadro2, cuadro3</dc:relation>\n",
    "  <dc:rights>Acceso al museo</dc:rights>\n",
    "  <dc:source></dc:source>\n",
    "  <dc:title>El grito</dc:title>\n",
    "  <dc:type>Cuadro</dc:type>\n",
    "\n",
    "\n",
    "\n",
    "</searchRetrieveResponse>'''\n",
    "\n",
    "tree = ET.fromstring(dc_xml)\n",
    "tree"
   ]
  },
  {
   "cell_type": "markdown",
   "metadata": {},
   "source": [
    "Si queremos recorrer los elementos del XML que hemos formado, podemos utilizar un bucle, teniendo en cuenta que la información que nos interesa la tenemos en el elemento raíz 'searchRetrieveResponse':"
   ]
  },
  {
   "cell_type": "code",
   "execution_count": null,
   "metadata": {},
   "outputs": [],
   "source": [
    "for table in tree.iter('searchRetrieveResponse'):\n",
    "    for child in table:\n",
    "        print(child.tag, child.text)"
   ]
  },
  {
   "cell_type": "markdown",
   "metadata": {},
   "source": [
    "Observa que, al utilizar el prefijo 'dc:' e indicarle que está descrito en la URL 'http://purl.org/dc/elements/1.1/', la eqtiqueta o \"tag\" aparece como, por ejemplo {URL}contributor.\n",
    "\n",
    "Prueba a mostrar los metadatos que has creado a partir del cuadro y del dataset:"
   ]
  },
  {
   "cell_type": "code",
   "execution_count": null,
   "metadata": {},
   "outputs": [],
   "source": [
    "for table in tree.iter('searchRetrieveResponse'):\n",
    "    for child in table:\n",
    "        print(child.text)"
   ]
  },
  {
   "cell_type": "markdown",
   "metadata": {},
   "source": [
    "Utilizando findall() sobre el arbol (tree), podemos encontrar todos los elementos con una etiqueta determinada."
   ]
  },
  {
   "cell_type": "code",
   "execution_count": null,
   "metadata": {},
   "outputs": [],
   "source": [
    "relation = tree.findall('{http://purl.org/dc/elements/1.1/}relation')\n",
    "print(relation)"
   ]
  },
  {
   "cell_type": "markdown",
   "metadata": {},
   "source": [
    "Ten en cuenta que lo que encontramos es, en realidad, una parte del documento XML, por lo que hay que iterarlo como antes:"
   ]
  },
  {
   "cell_type": "code",
   "execution_count": null,
   "metadata": {},
   "outputs": [],
   "source": [
    "for child in relation:\n",
    "    print(child.tag, child.text)"
   ]
  },
  {
   "cell_type": "markdown",
   "metadata": {},
   "source": [
    "XML utiliza prefijos para no necesitar referenciar a la URL de un tipo cada vez, lo podemos ver en la cabecera:\n",
    "\n",
    "```XML\n",
    "<?xml version=\"1.0\" encoding=\"UTF-8\" standalone=\"no\"?><?xml-stylesheet type=\"text/xsl\" href=\"/webservices/catalog/xsl/searchRetrieveResponse.xsl\"?>\n",
    "<searchRetrieveResponse xmlns:oclcterms=\"http://purl.org/oclc/terms/\" xmlns:dc=\"http://purl.org/dc/elements/1.1/\" xmlns:diag=\"http://www.loc.gov/zing/srw/diagnostic/\" xmlns:xsi=\"http://www.w3.org/2001/XMLSchema-instance\">'''\n",
    "```\n",
    "\n",
    "Por ejemplo, cada vez que queremos utilizar un tipo de Dublin Core, utilizamos el prefijo dc: que equivale a llamar a la definición:\n",
    "\n",
    "xmlns:dc=\"http://purl.org/dc/elements/1.1/\"\n",
    "\n",
    "Sin embargo, para utilizar ElementTree en Python, tenemos que utilizar la URL completa. Esto puede resultar un poco engorroso, así que podemos definir el namespace para utilizar también el prefijo:"
   ]
  },
  {
   "cell_type": "code",
   "execution_count": null,
   "metadata": {},
   "outputs": [],
   "source": [
    "namespaces = {'dc': 'http://purl.org/dc/elements/1.1/'} # add more as needed\n",
    "\n",
    "tree.find('dc:rights',namespaces).text"
   ]
  },
  {
   "cell_type": "markdown",
   "metadata": {},
   "source": [
    "Los documentos XML, aparte de las etiquetas y los valores, pueden contener atributos. Dado el siguiente ejemplo, vamos a ver cómo obtener la lista y los valores de los atributos"
   ]
  },
  {
   "cell_type": "code",
   "execution_count": null,
   "metadata": {},
   "outputs": [],
   "source": [
    "dc_xml = '''<?xml version=\"1.0\" encoding=\"UTF-8\" standalone=\"no\"?><?xml-stylesheet type=\"text/xsl\" href=\"/webservices/catalog/xsl/searchRetrieveResponse.xsl\"?>\n",
    "<searchRetrieveResponse xmlns:oclcterms=\"http://purl.org/oclc/terms/\" xmlns:dc=\"http://purl.org/dc/elements/1.1/\" xmlns:diag=\"http://www.loc.gov/zing/srw/diagnostic/\" xmlns:xsi=\"http://www.w3.org/2001/XMLSchema-instance\">\n",
    "<dc:contributor>asdsadsad</dc:contributor>\n",
    "<dc:coverage>dfsd</dc:coverage>\n",
    "<dc:creator>sadsa</dc:creator>\n",
    "<dc:date>sadas</dc:date>\n",
    "<dc:description atributo1=\"valor1\" atributo2=\"valor2\">sadsa</dc:description>\n",
    "<dc:format>sadasd</dc:format>\n",
    "<dc:identifier>sadsad</dc:identifier>\n",
    "<dc:language>asdasd</dc:language>\n",
    "<dc:publisher>wqewq</dc:publisher>\n",
    "<dc:relation >wqeqw</dc:relation>\n",
    "<dc:rights>ffefe</dc:rights>\n",
    "<dc:source>vfvf</dc:source>\n",
    "<dc:title>wqewqe</dc:title>\n",
    "<dc:type>ewfrb</dc:type>\n",
    "</searchRetrieveResponse>'''\n",
    "\n",
    "tree2 = ET.fromstring(dc_xml)"
   ]
  },
  {
   "cell_type": "code",
   "execution_count": null,
   "metadata": {},
   "outputs": [],
   "source": [
    "tree2.find('dc:description',namespaces).attrib"
   ]
  },
  {
   "cell_type": "markdown",
   "metadata": {},
   "source": [
    "Conociendo los nombres de estos atributos, puedes extraer su valor. Esto serviría para dar una información adicional al contenido de la etiqueta. Por ejemplo, se podría añadir el idioma como atributo en la descripción."
   ]
  },
  {
   "cell_type": "code",
   "execution_count": null,
   "metadata": {},
   "outputs": [],
   "source": [
    "print(tree2.find('dc:description',namespaces).attrib['atributo1'])\n",
    "print(tree2.find('dc:description',namespaces).attrib['atributo2'])\n"
   ]
  },
  {
   "cell_type": "markdown",
   "metadata": {},
   "source": [
    "Vamos a analizar un documento XML más complejo, empezando por descargarlo:"
   ]
  },
  {
   "cell_type": "code",
   "execution_count": null,
   "metadata": {},
   "outputs": [],
   "source": [
    "import requests\n",
    "\n",
    "response = requests.get('https://gist.githubusercontent.com/vivien/580729/raw/651d1b216357c0d7d9fc47075071fb482e11fb36/dublincore-example.xml')\n",
    "if response.status_code == 200:\n",
    "    with open(\"./dublincore-example.xml\", 'wb') as f:\n",
    "        f.write(response.content)"
   ]
  },
  {
   "cell_type": "markdown",
   "metadata": {},
   "source": [
    "<div class=\"alert alert-warning\" role=\"alert\" style=\"margin: 10px\">\n",
    "<p>**Recuerda!**</p>\n",
    "\n",
    "<p>Jupyter permite ejecutar ciertos comandos bash</p>\n",
    "</div>"
   ]
  },
  {
   "cell_type": "code",
   "execution_count": null,
   "metadata": {},
   "outputs": [],
   "source": [
    "ls"
   ]
  },
  {
   "cell_type": "markdown",
   "metadata": {},
   "source": [
    "Y lo cargamos en python:"
   ]
  },
  {
   "cell_type": "code",
   "execution_count": null,
   "metadata": {},
   "outputs": [],
   "source": [
    "tree = ET.parse('dublincore-example.xml')\n",
    "namespaces = {'dc': 'http://purl.org/dc/elements/1.1/'} # add more as needed\n",
    "for table in tree.iter('{http://www.loc.gov/zing/srw/}searchRetrieveResponse'):\n",
    "    for child in table:\n",
    "        print(child.tag, child.text)"
   ]
  },
  {
   "cell_type": "code",
   "execution_count": null,
   "metadata": {},
   "outputs": [],
   "source": [
    "all_records = tree.findall('{http://www.loc.gov/zing/srw/}records')\n",
    "print(all_records)"
   ]
  },
  {
   "cell_type": "code",
   "execution_count": null,
   "metadata": {},
   "outputs": [],
   "source": [
    "for table in tree.iter('{http://www.loc.gov/zing/srw/}record'):\n",
    "    for child in table:\n",
    "        print(child.tag, child.text)"
   ]
  },
  {
   "cell_type": "code",
   "execution_count": null,
   "metadata": {},
   "outputs": [],
   "source": [
    "for table in tree.iter('{http://www.loc.gov/zing/srw/}recordData'):\n",
    "    for child in table:\n",
    "        print(child.tag, child.text)"
   ]
  },
  {
   "cell_type": "code",
   "execution_count": null,
   "metadata": {},
   "outputs": [],
   "source": [
    "for table in tree.iter('{http://www.loc.gov/zing/srw/}oclcdcs'):\n",
    "    for child in table:\n",
    "        print(child.tag, child.text)"
   ]
  },
  {
   "cell_type": "code",
   "execution_count": null,
   "metadata": {},
   "outputs": [],
   "source": [
    "table = tree.findall('//{http://purl.org/dc/elements/1.1/}identifier')\n",
    "for child in table:\n",
    "    print(child.tag, child.text)"
   ]
  },
  {
   "cell_type": "code",
   "execution_count": null,
   "metadata": {},
   "outputs": [],
   "source": [
    "relation = tree.findall('//{http://purl.org/dc/elements/1.1/}identifier')\n",
    "for elem in relation:\n",
    "    print(elem.tag, elem.text)"
   ]
  },
  {
   "cell_type": "markdown",
   "metadata": {},
   "source": [
    "## XPATH"
   ]
  },
  {
   "cell_type": "markdown",
   "metadata": {},
   "source": [
    "XPath es un lenguaje que permite construir expresiones que recorren y procesan un documento XML. La idea es parecida a las expresiones regulares para seleccionar partes de un texto sin atributos. XPath permite buscar y seleccionar teniendo en cuenta la estructura jerárquica del XML"
   ]
  },
  {
   "cell_type": "markdown",
   "metadata": {},
   "source": [
    "<table border=\"1\" class=\"docutils\">\n",
    "<colgroup>\n",
    "<col width=\"30%\">\n",
    "<col width=\"70%\">\n",
    "</colgroup>\n",
    "<thead valign=\"bottom\">\n",
    "<tr class=\"row-odd\"><th class=\"head\">Syntax</th>\n",
    "<th class=\"head\">Meaning</th>\n",
    "</tr>\n",
    "</thead>\n",
    "<tbody valign=\"top\">\n",
    "<tr class=\"row-even\"><td><code class=\"docutils literal notranslate\"><span class=\"pre\">tag</span></code></td>\n",
    "<td>Selects all child elements with the given tag.\n",
    "For example, <code class=\"docutils literal notranslate\"><span class=\"pre\">spam</span></code> selects all child elements\n",
    "named <code class=\"docutils literal notranslate\"><span class=\"pre\">spam</span></code>, and <code class=\"docutils literal notranslate\"><span class=\"pre\">spam/egg</span></code> selects all\n",
    "grandchildren named <code class=\"docutils literal notranslate\"><span class=\"pre\">egg</span></code> in all children named\n",
    "<code class=\"docutils literal notranslate\"><span class=\"pre\">spam</span></code>.</td>\n",
    "</tr>\n",
    "<tr class=\"row-odd\"><td><code class=\"docutils literal notranslate\"><span class=\"pre\">*</span></code></td>\n",
    "<td>Selects all child elements.  For example, <code class=\"docutils literal notranslate\"><span class=\"pre\">*/egg</span></code>\n",
    "selects all grandchildren named <code class=\"docutils literal notranslate\"><span class=\"pre\">egg</span></code>.</td>\n",
    "</tr>\n",
    "<tr class=\"row-even\"><td><code class=\"docutils literal notranslate\"><span class=\"pre\">.</span></code></td>\n",
    "<td>Selects the current node.  This is mostly useful\n",
    "at the beginning of the path, to indicate that it’s\n",
    "a relative path.</td>\n",
    "</tr>\n",
    "<tr class=\"row-odd\"><td><code class=\"docutils literal notranslate\"><span class=\"pre\">//</span></code></td>\n",
    "<td>Selects all subelements, on all levels beneath the\n",
    "current  element.  For example, <code class=\"docutils literal notranslate\"><span class=\"pre\">.//egg</span></code> selects\n",
    "all <code class=\"docutils literal notranslate\"><span class=\"pre\">egg</span></code> elements in the entire tree.</td>\n",
    "</tr>\n",
    "<tr class=\"row-even\"><td><code class=\"docutils literal notranslate\"><span class=\"pre\">..</span></code></td>\n",
    "<td>Selects the parent element.</td>\n",
    "</tr>\n",
    "<tr class=\"row-odd\"><td><code class=\"docutils literal notranslate\"><span class=\"pre\">[@attrib]</span></code></td>\n",
    "<td>Selects all elements that have the given attribute.</td>\n",
    "</tr>\n",
    "<tr class=\"row-even\"><td><code class=\"docutils literal notranslate\"><span class=\"pre\">[@attrib='value']</span></code></td>\n",
    "<td>Selects all elements for which the given attribute\n",
    "has the given value.  The value cannot contain\n",
    "quotes.</td>\n",
    "</tr>\n",
    "<tr class=\"row-odd\"><td><code class=\"docutils literal notranslate\"><span class=\"pre\">[tag]</span></code></td>\n",
    "<td>Selects all elements that have a child named\n",
    "<code class=\"docutils literal notranslate\"><span class=\"pre\">tag</span></code>.  Only immediate children are supported.</td>\n",
    "</tr>\n",
    "<tr class=\"row-even\"><td><code class=\"docutils literal notranslate\"><span class=\"pre\">[tag='text']</span></code></td>\n",
    "<td>Selects all elements that have a child named\n",
    "<code class=\"docutils literal notranslate\"><span class=\"pre\">tag</span></code> whose complete text content, including\n",
    "descendants, equals the given <code class=\"docutils literal notranslate\"><span class=\"pre\">text</span></code>.</td>\n",
    "</tr>\n",
    "<tr class=\"row-odd\"><td><code class=\"docutils literal notranslate\"><span class=\"pre\">[position]</span></code></td>\n",
    "<td>Selects all elements that are located at the given\n",
    "position.  The position can be either an integer\n",
    "(1 is the first position), the expression <code class=\"docutils literal notranslate\"><span class=\"pre\">last()</span></code>\n",
    "(for the last position), or a position relative to\n",
    "the last position (e.g. <code class=\"docutils literal notranslate\"><span class=\"pre\">last()-1</span></code>).</td>\n",
    "</tr>\n",
    "</tbody>\n",
    "</table>"
   ]
  },
  {
   "cell_type": "markdown",
   "metadata": {},
   "source": [
    "Como ves, hay que ir entendiendo la jerarquía del XML para poder obtener la información. \n",
    "\n",
    "¿Puedes obtener los títulos de los recursos descritos en el XML?"
   ]
  },
  {
   "cell_type": "markdown",
   "metadata": {},
   "source": [
    "<div class=\"alert alert-warning\" role=\"alert\" style=\"margin: 10px\">\n",
    "<p>**Ayuda**</p>\n",
    "\n",
    "<p>'//' para indicar que empiece a buscar desde el elemento actual desde el que parte el arbol + tipo+nombre del elemento a buscar ({http://purl.org/dc/elements/1.1/} title)</p>\n",
    "</div>"
   ]
  },
  {
   "cell_type": "code",
   "execution_count": null,
   "metadata": {},
   "outputs": [],
   "source": [
    "relation = tree.findall('.//{http://purl.org/dc/elements/1.1/}title')\n",
    "for elem in relation:\n",
    "    print(elem.tag, elem.text)"
   ]
  },
  {
   "cell_type": "markdown",
   "metadata": {},
   "source": [
    "Haz lo mismo utilizando namespace"
   ]
  },
  {
   "cell_type": "code",
   "execution_count": null,
   "metadata": {},
   "outputs": [],
   "source": [
    "namespaces = {'dc': 'http://purl.org/dc/elements/1.1/'} # add more as needed\n",
    "relation = tree.findall('.//dc:title',namespaces)\n",
    "for elem in relation:\n",
    "    print(elem.tag, elem.text)"
   ]
  },
  {
   "cell_type": "markdown",
   "metadata": {},
   "source": [
    "## Ejemplo con EML"
   ]
  },
  {
   "cell_type": "code",
   "execution_count": null,
   "metadata": {},
   "outputs": [],
   "source": [
    "import requests\n",
    "\n",
    "response = requests.get('https://zenodo.org/record/841691/files/amt_prototype.xml')\n",
    "if response.status_code == 200:\n",
    "    with open(\"./amt_prototype.xml\", 'wb') as f:\n",
    "        f.write(response.content)\n",
    "        \n"
   ]
  },
  {
   "cell_type": "code",
   "execution_count": null,
   "metadata": {},
   "outputs": [],
   "source": [
    "ls"
   ]
  },
  {
   "cell_type": "markdown",
   "metadata": {},
   "source": [
    "En estándares más complejos, el xml de base puede tener una jerarquía anidada, como es el caso de EML. Entonces, cada elemento puede tener de 0 a N \"hijos\", formando nuevos árboles."
   ]
  },
  {
   "cell_type": "code",
   "execution_count": null,
   "metadata": {},
   "outputs": [],
   "source": [
    "tree = ET.parse('amt_prototype.xml')\n",
    "root = tree.getroot()\n",
    "\n",
    "for table in root.iter():\n",
    "    for child in table:\n",
    "        if len(child)==0:\n",
    "            print(child.tag, child.text)"
   ]
  },
  {
   "cell_type": "markdown",
   "metadata": {},
   "source": [
    "Explora un poco: Nombre del proyecto, autores, lista de atributos..."
   ]
  },
  {
   "cell_type": "code",
   "execution_count": null,
   "metadata": {
    "scrolled": true
   },
   "outputs": [],
   "source": [
    "#elementos = tree.findall('/dataset[1]/creator/individualName/salutation')\n",
    "elementos = tree.findall('.//attributeList/attribute[@id=\"1465311292527\"]/attributeName')\n",
    "for e in elementos:\n",
    "    print(e.tag + \":\", e.text)"
   ]
  },
  {
   "cell_type": "code",
   "execution_count": null,
   "metadata": {},
   "outputs": [],
   "source": [
    "elementos = tree.findall('.//dataset')\n",
    "for e in elementos:\n",
    "    print(e.tag + \":\", e.text)\n",
    "    for i in e.iter():\n",
    "        print(i.tag + \":\", i.text)"
   ]
  },
  {
   "cell_type": "code",
   "execution_count": null,
   "metadata": {},
   "outputs": [],
   "source": [
    "dataset = ET.SubElement(root,'dataset')\n",
    "for table in dataset.iter():\n",
    "    print(child.tag, child.text)"
   ]
  },
  {
   "cell_type": "markdown",
   "metadata": {},
   "source": [
    "# Ejercicio personal"
   ]
  },
  {
   "cell_type": "markdown",
   "metadata": {},
   "source": [
    "## Ejercicio 1"
   ]
  },
  {
   "cell_type": "markdown",
   "metadata": {},
   "source": [
    "A partir del ejemplo completo del esquema de metadatos de DataCite, muestra por pantalla los elementos que sean equivalentes a los propuestos por Dublin Core (cada uno en una línea). Es posible que tengas que combinar en uno varios campos del archivo de metadatos (Por ejemplo, en coverage las coordenadas + el nombre).\n",
    "\n",
    "* Title: \n",
    "* Creator: \n",
    "* Subject:  \n",
    "* Description: \n",
    "* Publisher: \n",
    "* Contributor:\n",
    "* Date: \n",
    "* Type: \n",
    "* Format: \n",
    "* Identifier: \n",
    "* Source: \n",
    "* Language:\n",
    "* Relation:\n",
    "* Coverage:  \n",
    "* Rights:\n",
    "\n",
    "Recurso: https://schema.datacite.org/meta/kernel-3.1/example/datacite-example-full-v3.1.xml"
   ]
  },
  {
   "cell_type": "code",
   "execution_count": null,
   "metadata": {},
   "outputs": [],
   "source": []
  },
  {
   "cell_type": "code",
   "execution_count": null,
   "metadata": {},
   "outputs": [],
   "source": []
  },
  {
   "cell_type": "code",
   "execution_count": null,
   "metadata": {},
   "outputs": [],
   "source": [
    "\n"
   ]
  },
  {
   "cell_type": "code",
   "execution_count": null,
   "metadata": {},
   "outputs": [],
   "source": []
  },
  {
   "cell_type": "markdown",
   "metadata": {},
   "source": [
    "## Ejercicio 2"
   ]
  },
  {
   "cell_type": "markdown",
   "metadata": {},
   "source": [
    "Haz un listado de todas las etiquetas del documento XML con sus atributos (si lo tienen)"
   ]
  },
  {
   "cell_type": "code",
   "execution_count": null,
   "metadata": {},
   "outputs": [],
   "source": []
  },
  {
   "cell_type": "markdown",
   "metadata": {},
   "source": [
    "## Ejercicio 3"
   ]
  },
  {
   "cell_type": "markdown",
   "metadata": {},
   "source": [
    "Muestra los distintos identificadores que tiene ese documento de este modo: Identificador [tipo] = [identificador]\n",
    "\n",
    "Ejemplo: Identificador DOI = 10.3122/121321"
   ]
  },
  {
   "cell_type": "code",
   "execution_count": null,
   "metadata": {},
   "outputs": [],
   "source": []
  },
  {
   "cell_type": "markdown",
   "metadata": {},
   "source": [
    "## Ejercicio 4"
   ]
  },
  {
   "cell_type": "markdown",
   "metadata": {},
   "source": [
    "Modifica el documento XML \"amt_prototype.xml\" para que todos los atributos incluyan su unidad (completa si es necesario).\n",
    "\n",
    "Una vez editado, muestra la lista de atributos con su unidad. \n",
    "\n",
    "Ejemplo:\n",
    "\n",
    "\"Atribute: Salinity | Unit: psu\""
   ]
  },
  {
   "cell_type": "code",
   "execution_count": null,
   "metadata": {},
   "outputs": [],
   "source": []
  }
 ],
 "metadata": {
  "kernelspec": {
   "display_name": "Python 3 (ipykernel)",
   "language": "python",
   "name": "python3"
  },
  "language_info": {
   "codemirror_mode": {
    "name": "ipython",
    "version": 3
   },
   "file_extension": ".py",
   "mimetype": "text/x-python",
   "name": "python",
   "nbconvert_exporter": "python",
   "pygments_lexer": "ipython3",
   "version": "3.10.6"
  }
 },
 "nbformat": 4,
 "nbformat_minor": 4
}
